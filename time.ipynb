{
 "cells": [
  {
   "cell_type": "code",
   "execution_count": 5,
   "metadata": {},
   "outputs": [],
   "source": [
    "import pandas as pd\n",
    "\n",
    "# Load the dataset\n",
    "df = pd.read_csv(\"socialMedia.csv\")\n",
    "\n",
    "# Strip extra spaces from column names\n",
    "df.columns = df.columns.str.strip()"
   ]
  },
  {
   "cell_type": "code",
   "execution_count": 6,
   "metadata": {},
   "outputs": [],
   "source": [
    "# Ensure Likes column is numeric\n",
    "df[\"Likes\"] = pd.to_numeric(df[\"Likes\"], errors=\"coerce\")"
   ]
  },
  {
   "cell_type": "code",
   "execution_count": 7,
   "metadata": {},
   "outputs": [],
   "source": [
    "# Group by Date and calculate the average number of Likes\n",
    "df_avg = df.groupby(\"Date\")[\"Likes\"].mean().reset_index()"
   ]
  },
  {
   "cell_type": "code",
   "execution_count": 8,
   "metadata": {},
   "outputs": [],
   "source": [
    "# Rename column for D3.js consistency\n",
    "df_avg.rename(columns={\"Likes\": \"AverageLikes\"}, inplace=True)"
   ]
  },
  {
   "cell_type": "code",
   "execution_count": 9,
   "metadata": {},
   "outputs": [],
   "source": [
    "# Round Likes to 6 decimal places\n",
    "df_avg[\"AverageLikes\"] = df_avg[\"AverageLikes\"].round(6)"
   ]
  },
  {
   "cell_type": "code",
   "execution_count": 11,
   "metadata": {},
   "outputs": [
    {
     "name": "stdout",
     "output_type": "stream",
     "text": [
      "Saved SocialMediaTime.csv successfully!\n"
     ]
    }
   ],
   "source": [
    "# Save the processed data as SocialMediaTime.csv\n",
    "df_avg.to_csv(\"SocialMediaTime.csv\", index=False)\n",
    "\n",
    "print(\"Saved SocialMediaTime.csv successfully!\")"
   ]
  }
 ],
 "metadata": {
  "kernelspec": {
   "display_name": "Python 3",
   "language": "python",
   "name": "python3"
  },
  "language_info": {
   "codemirror_mode": {
    "name": "ipython",
    "version": 3
   },
   "file_extension": ".py",
   "mimetype": "text/x-python",
   "name": "python",
   "nbconvert_exporter": "python",
   "pygments_lexer": "ipython3",
   "version": "3.9.12"
  }
 },
 "nbformat": 4,
 "nbformat_minor": 2
}
